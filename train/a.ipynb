{
 "cells": [
  {
   "cell_type": "code",
   "execution_count": null,
   "metadata": {},
   "outputs": [],
   "source": [
    "!rm -rf filelists\n",
    "!mkdir filelists\n",
    "!touch filelists/train.txt\n",
    "!touch filelists/test.txt\n",
    "!touch filelists/val.txt"
   ]
  },
  {
   "cell_type": "code",
   "execution_count": null,
   "metadata": {},
   "outputs": [],
   "source": [
    "# filelist\n",
    "import os\n",
    "\n",
    "data_path = \"../TalkNet/videos\"\n",
    "dataset = os.listdir(data_path)\n",
    "\n",
    "for subset in dataset:\n",
    "    with open(f\"filelists/{subset}.txt\", \"w\") as f:\n",
    "        subset_path = os.path.join(data_path, subset)\n",
    "        videos = os.listdir(subset_path)\n",
    "        text = \"\"\n",
    "        for file in videos:\n",
    "            # file = file.split(\".\")[0]\n",
    "            file_path = os.path.join(subset_path, file)\n",
    "            text += file_path + \"\\n\"\n",
    "        f.writelines(text)"
   ]
  }
 ],
 "metadata": {
  "kernelspec": {
   "display_name": "wav2lip",
   "language": "python",
   "name": "python3"
  },
  "language_info": {
   "name": "python",
   "version": "3.8.19"
  }
 },
 "nbformat": 4,
 "nbformat_minor": 2
}
