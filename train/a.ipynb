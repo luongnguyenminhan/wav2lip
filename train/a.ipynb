{
 "cells": [
  {
   "cell_type": "code",
   "execution_count": null,
   "metadata": {},
   "outputs": [],
   "source": [
    "!rm -rf filelists\n",
    "!mkdir filelists\n",
    "!touch filelists/train.txt\n",
    "!touch filelists/test.txt\n",
    "!touch filelists/val.txt"
   ]
  }
 ],
 "metadata": {
  "kernelspec": {
   "display_name": "wav2lip",
   "language": "python",
   "name": "python3"
  },
  "language_info": {
   "name": "python",
   "version": "3.8.19"
  }
 },
 "nbformat": 4,
 "nbformat_minor": 2
}
